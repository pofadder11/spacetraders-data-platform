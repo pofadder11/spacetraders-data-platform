{
 "cells": [
  {
   "cell_type": "markdown",
   "metadata": {},
   "source": [
    "# Test run_to_thread argument parsing and behavior\n",
    "This notebook validates how our run_to_thread (async wrapper over asyncio.to_thread) forwards positional and keyword arguments and propagates exceptions."
   ]
  },
  {
   "cell_type": "code",
   "execution_count": null,
   "metadata": {},
   "outputs": [],
   "source": [
    "from __future__ import annotations\n",
    "import asyncio\n",
    "from functools import partial\n",
    "from services.async_utils import run_to_thread\n",
    "\n",
    "def add(a, b):\n",
    "    return a + b\n",
    "\n",
    "class Acc:\n",
    "    def __init__(self, base=0):\n",
    "        self.base = base\n",
    "    def add(self, x, y=0):\n",
    "        return self.base + x + y\n",
    "\n",
    "async def demo():\n",
    "    print('[pos] add(2,3)=', await run_to_thread(add, 2, 3))\n",
    "    print('[kw] pow(2, exp=5)=', await run_to_thread(pow, 2, exp=5))\n",
    "    acc = Acc(10)\n",
    "    print('[bound] Acc.add(2,y=3)=', await run_to_thread(acc.add, 2, y=3))\n",
    "    p = partial(add, 10)\n",
    "    print('[partial] add(10,5)=', await run_to_thread(p, 5))\n",
    "    f = lambda x, y: x * y\n",
    "    print('[lambda] 4*7=', await run_to_thread(f, 4, 7))\n",
    "    try:\n",
    "        def boom(x): raise ValueError(f'bad {x}')\n",
    "        await run_to_thread(boom, 42)\n",
    "    except Exception as e:\n",
    "        print('[raise] got:', type(e).__name__, e)\n",
    "\n",
    "await demo()\n"
   ]
  },
  {
   "cell_type": "markdown",
   "metadata": {},
   "source": [
    "## Optional: Live API sanity (AgentsApi.get_my_agent)\n",
    "If you have BEARER_TOKEN in .env, uncomment and run to verify to_thread with SDK calls."
   ]
  },
  {
   "cell_type": "code",
   "execution_count": null,
   "metadata": {},
   "outputs": [],
   "source": [
    "# import os\n",
    "# from dotenv import load_dotenv\n",
    "# import openapi_client\n",
    "# load_dotenv()\n",
    "# token = os.getenv('BEARER_TOKEN')\n",
    "# if token:\n",
    "#     cfg = openapi_client.Configuration(access_token=token)\n",
    "#     client = openapi_client.ApiClient(cfg)\n",
    "#     agents = openapi_client.AgentsApi(client)\n",
    "#     data = await run_to_thread(agents.get_my_agent)\n",
    "#     print('[agents] ok:', hasattr(data, 'data'))\n"
   ]
  }
 ],
 "metadata": {
  "kernelspec": {
   "display_name": "Python 3",
   "language": "python",
   "name": "python3"
  },
  "language_info": {
   "name": "python",
   "pygments_lexer": "ipython3"
  }
 },
 "nbformat": 4,
 "nbformat_minor": 2
}

